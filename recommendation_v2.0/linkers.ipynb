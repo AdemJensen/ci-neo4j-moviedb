{
 "cells": [
  {
   "cell_type": "code",
   "id": "initial_id",
   "metadata": {
    "collapsed": true,
    "ExecuteTime": {
     "end_time": "2025-04-22T15:15:05.532669Z",
     "start_time": "2025-04-22T15:15:05.517127Z"
    }
   },
   "source": [
    "import pandas as pd\n",
    "\n",
    "# Load the links.csv file\n",
    "df = pd.read_csv(\"TheMoviesDataset/links.csv\", dtype={\"tmdbId\": str})  # Ensure imdbId is treated as string\n",
    "\n",
    "def movieId_to_tmdbId(movie_id):\n",
    "    result = df[df['movieId'] == movie_id]['tmdbId']\n",
    "    return result.iloc[0] if not result.empty else None\n",
    "\n",
    "def tmdbId_to_movieId(imdb_id):\n",
    "    result = df[df['tmdbId'] == imdb_id]['movieId']\n",
    "    return result.iloc[0] if not result.empty else None\n"
   ],
   "outputs": [],
   "execution_count": 10
  },
  {
   "metadata": {
    "ExecuteTime": {
     "end_time": "2025-04-22T15:15:29.883044Z",
     "start_time": "2025-04-22T15:15:29.879134Z"
    }
   },
   "cell_type": "code",
   "source": "movieId_to_tmdbId(64)  # Example usage",
   "id": "6b9f63aa9d2b9145",
   "outputs": [
    {
     "data": {
      "text/plain": [
       "'19760'"
      ]
     },
     "execution_count": 12,
     "metadata": {},
     "output_type": "execute_result"
    }
   ],
   "execution_count": 12
  }
 ],
 "metadata": {
  "kernelspec": {
   "display_name": "Python 3",
   "language": "python",
   "name": "python3"
  },
  "language_info": {
   "codemirror_mode": {
    "name": "ipython",
    "version": 2
   },
   "file_extension": ".py",
   "mimetype": "text/x-python",
   "name": "python",
   "nbconvert_exporter": "python",
   "pygments_lexer": "ipython2",
   "version": "2.7.6"
  }
 },
 "nbformat": 4,
 "nbformat_minor": 5
}
