{
 "cells": [
  {
   "cell_type": "code",
   "id": "initial_id",
   "metadata": {
    "collapsed": true,
    "ExecuteTime": {
     "end_time": "2025-04-22T15:15:05.532669Z",
     "start_time": "2025-04-22T15:15:05.517127Z"
    }
   },
   "source": [
    "import pandas as pd\n",
    "\n",
    "# Load the links.csv file\n",
    "df = pd.read_csv(\"TheMoviesDataset/links.csv\", dtype={\"tmdbId\": str})  # Ensure imdbId is treated as string\n",
    "\n",
    "def movieId_to_tmdbId(movie_id):\n",
    "    result = df[df['movieId'] == movie_id]['tmdbId']\n",
    "    return result.iloc[0] if not result.empty else None\n",
    "\n",
    "def tmdbId_to_movieId(imdb_id):\n",
    "    result = df[df['tmdbId'] == imdb_id]['movieId']\n",
    "    return result.iloc[0] if not result.empty else None\n"
   ],
   "outputs": [],
   "execution_count": 10
  },
  {
   "metadata": {
    "ExecuteTime": {
     "end_time": "2025-04-22T15:15:29.883044Z",
     "start_time": "2025-04-22T15:15:29.879134Z"
    }
   },
   "cell_type": "code",
   "source": "movieId_to_tmdbId(64)  # Example usage",
   "id": "6b9f63aa9d2b9145",
   "outputs": [
    {
     "data": {
      "text/plain": [
       "'19760'"
      ]
     },
     "execution_count": 12,
     "metadata": {},
     "output_type": "execute_result"
    }
   ],
   "execution_count": 12
  },
  {
   "metadata": {
    "ExecuteTime": {
     "end_time": "2025-04-23T10:00:12.379415Z",
     "start_time": "2025-04-23T10:00:10.117438Z"
    }
   },
   "cell_type": "code",
   "source": [
    "import requests\n",
    "url = \"https://api.siliconflow.cn/v1/chat/completions\"\n",
    "\n",
    "payload = {\n",
    "    \"model\": \"THUDM/glm-4-9b-chat\",\n",
    "    \"messages\": [{'role': 'user', 'content': \"Can you search a movie for me? The keyword is 'Rope'\"}, {'role': 'assistant', 'tool_calls': [{'id': '01966208d370bc189891470d1c6833dd', 'type': 'function', 'function': {'name': 'search_movie', 'arguments': '{\"keyword\": \"Rope\"}'}}]}, {'role': 'tool', 'tool_call_id': '01966208d370bc189891470d1c6833dd', 'name': 'search_movie', 'content': '{\"title\": \"Rope\", \"overview\": \"Two young men attempt to prove they committed the perfect murder by hosting a dinner party for the family of a classmate they just strangled to death.\", \"url\": \"https://www.themoviedb.org/movie/1580\"}'}],\n",
    "    \"stream\": False,\n",
    "    \"max_tokens\": 512,\n",
    "    \"stop\": None,\n",
    "    \"temperature\": 0.7,\n",
    "    \"top_p\": 0.7,\n",
    "    \"top_k\": 50,\n",
    "    \"frequency_penalty\": 0.5,\n",
    "    \"n\": 1,\n",
    "    \"response_format\": {\"type\": \"text\"},\n",
    "    \"tools\": [\n",
    "        {\n",
    "            \"type\": \"function\",\n",
    "            \"function\": {\n",
    "                \"name\": \"search_movie\",\n",
    "                \"description\": \"Search for a movie given a keyword\",\n",
    "                \"parameters\": {\n",
    "                    \"type\": \"object\",\n",
    "                    \"properties\": {\n",
    "                        \"keyword\": {\"type\": \"string\"}\n",
    "                    },\n",
    "                    \"required\": [\"keyword\"]\n",
    "                }\n",
    "            }\n",
    "        }\n",
    "    ]\n",
    "}\n",
    "headers = {\n",
    "    \"Authorization\": \"Bearer <UHHH, That's a secret>\",\n",
    "    \"Content-Type\": \"application/json\"\n",
    "}\n",
    "\n",
    "response = requests.request(\"POST\", url, json=payload, headers=headers)\n",
    "completion = response.json()\n",
    "print(completion)"
   ],
   "id": "a8610e3a4e618018",
   "outputs": [
    {
     "name": "stdout",
     "output_type": "stream",
     "text": [
      "{'id': '019662172dc12b606a660fb74b9f7a94', 'object': 'chat.completion', 'created': 1745402408, 'model': 'THUDM/glm-4-9b-chat', 'choices': [{'index': 0, 'message': {'role': 'assistant', 'content': \"\\nSure, I found a movie for you. The movie is called 'Rope' and it is about two young men who attempt to prove they committed the perfect murder by hosting a dinner party for the family of a classmate they just strangled to death. You can find more information about the movie [here](https://www.themoviedb.org/movie/1580).\"}, 'finish_reason': 'stop'}], 'usage': {'prompt_tokens': 225, 'completion_tokens': 78, 'total_tokens': 303}, 'system_fingerprint': ''}\n"
     ]
    }
   ],
   "execution_count": 8
  }
 ],
 "metadata": {
  "kernelspec": {
   "display_name": "Python 3",
   "language": "python",
   "name": "python3"
  },
  "language_info": {
   "codemirror_mode": {
    "name": "ipython",
    "version": 2
   },
   "file_extension": ".py",
   "mimetype": "text/x-python",
   "name": "python",
   "nbconvert_exporter": "python",
   "pygments_lexer": "ipython2",
   "version": "2.7.6"
  }
 },
 "nbformat": 4,
 "nbformat_minor": 5
}
