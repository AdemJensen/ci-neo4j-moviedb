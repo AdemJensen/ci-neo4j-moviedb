{
 "cells": [
  {
   "cell_type": "code",
   "id": "initial_id",
   "metadata": {
    "collapsed": true,
    "ExecuteTime": {
     "end_time": "2025-04-22T15:15:05.532669Z",
     "start_time": "2025-04-22T15:15:05.517127Z"
    }
   },
   "source": [
    "import pandas as pd\n",
    "\n",
    "# Load the links.csv file\n",
    "df = pd.read_csv(\"TheMoviesDataset/links.csv\", dtype={\"tmdbId\": str})  # Ensure imdbId is treated as string\n",
    "\n",
    "def movieId_to_tmdbId(movie_id):\n",
    "    result = df[df['movieId'] == movie_id]['tmdbId']\n",
    "    return result.iloc[0] if not result.empty else None\n",
    "\n",
    "def tmdbId_to_movieId(imdb_id):\n",
    "    result = df[df['tmdbId'] == imdb_id]['movieId']\n",
    "    return result.iloc[0] if not result.empty else None\n"
   ],
   "outputs": [],
   "execution_count": 10
  },
  {
   "metadata": {
    "ExecuteTime": {
     "end_time": "2025-04-22T15:15:29.883044Z",
     "start_time": "2025-04-22T15:15:29.879134Z"
    }
   },
   "cell_type": "code",
   "source": "movieId_to_tmdbId(64)  # Example usage",
   "id": "6b9f63aa9d2b9145",
   "outputs": [
    {
     "data": {
      "text/plain": [
       "'19760'"
      ]
     },
     "execution_count": 12,
     "metadata": {},
     "output_type": "execute_result"
    }
   ],
   "execution_count": 12
  },
  {
   "metadata": {
    "ExecuteTime": {
     "end_time": "2025-04-23T10:00:12.379415Z",
     "start_time": "2025-04-23T10:00:10.117438Z"
    }
   },
   "cell_type": "code",
   "source": [
    "import requests\n",
    "url = \"https://api.siliconflow.cn/v1/chat/completions\"\n",
    "\n",
    "payload = {\n",
    "    \"model\": \"THUDM/glm-4-9b-chat\",\n",
    "    \"messages\": [{'role': 'user', 'content': \"Can you search a movie for me? The keyword is 'Rope'\"}, {'role': 'assistant', 'tool_calls': [{'id': '01966208d370bc189891470d1c6833dd', 'type': 'function', 'function': {'name': 'search_movie', 'arguments': '{\"keyword\": \"Rope\"}'}}]}, {'role': 'tool', 'tool_call_id': '01966208d370bc189891470d1c6833dd', 'name': 'search_movie', 'content': '{\"title\": \"Rope\", \"overview\": \"Two young men attempt to prove they committed the perfect murder by hosting a dinner party for the family of a classmate they just strangled to death.\", \"url\": \"https://www.themoviedb.org/movie/1580\"}'}],\n",
    "    \"stream\": False,\n",
    "    \"max_tokens\": 512,\n",
    "    \"stop\": None,\n",
    "    \"temperature\": 0.7,\n",
    "    \"top_p\": 0.7,\n",
    "    \"top_k\": 50,\n",
    "    \"frequency_penalty\": 0.5,\n",
    "    \"n\": 1,\n",
    "    \"response_format\": {\"type\": \"text\"},\n",
    "    \"tools\": [\n",
    "        {\n",
    "            \"type\": \"function\",\n",
    "            \"function\": {\n",
    "                \"name\": \"search_movie\",\n",
    "                \"description\": \"Search for a movie given a keyword\",\n",
    "                \"parameters\": {\n",
    "                    \"type\": \"object\",\n",
    "                    \"properties\": {\n",
    "                        \"keyword\": {\"type\": \"string\"}\n",
    "                    },\n",
    "                    \"required\": [\"keyword\"]\n",
    "                }\n",
    "            }\n",
    "        }\n",
    "    ]\n",
    "}\n",
    "headers = {\n",
    "    \"Authorization\": \"Bearer <UHHH, That's a secret>\",\n",
    "    \"Content-Type\": \"application/json\"\n",
    "}\n",
    "\n",
    "response = requests.request(\"POST\", url, json=payload, headers=headers)\n",
    "completion = response.json()\n",
    "print(completion)"
   ],
   "id": "a8610e3a4e618018",
   "outputs": [
    {
     "name": "stdout",
     "output_type": "stream",
     "text": [
      "{'id': '019662172dc12b606a660fb74b9f7a94', 'object': 'chat.completion', 'created': 1745402408, 'model': 'THUDM/glm-4-9b-chat', 'choices': [{'index': 0, 'message': {'role': 'assistant', 'content': \"\\nSure, I found a movie for you. The movie is called 'Rope' and it is about two young men who attempt to prove they committed the perfect murder by hosting a dinner party for the family of a classmate they just strangled to death. You can find more information about the movie [here](https://www.themoviedb.org/movie/1580).\"}, 'finish_reason': 'stop'}], 'usage': {'prompt_tokens': 225, 'completion_tokens': 78, 'total_tokens': 303}, 'system_fingerprint': ''}\n"
     ]
    }
   ],
   "execution_count": 8
  },
  {
   "metadata": {
    "ExecuteTime": {
     "end_time": "2025-04-23T17:51:38.464678Z",
     "start_time": "2025-04-23T17:51:12.794456Z"
    }
   },
   "cell_type": "code",
   "source": [
    "from Backend.recommendation import calculate_list_embeddings, recommend_by_genres\n",
    "\n",
    "calculate_list_embeddings()"
   ],
   "id": "f773b0d679f6a150",
   "outputs": [
    {
     "name": "stdout",
     "output_type": "stream",
     "text": [
      "Model files already exist.\n",
      "Loading recommendation essentials...\n"
     ]
    },
    {
     "name": "stderr",
     "output_type": "stream",
     "text": [
      "C:\\Users\\jensen\\Documents\\Projects\\ci-neo4j-moviedb\\Backend\\recommendation\\utils.py:10: DtypeWarning: Columns (10) have mixed types. Specify dtype option on import or set low_memory=False.\n",
      "  movie_meta_df = pd.read_csv(Path(__file__).parent / \"TheMoviesDataset/movies_metadata.csv\", dtype={\"id\": str})\n"
     ]
    },
    {
     "name": "stdout",
     "output_type": "stream",
     "text": [
      "Recommendation essentials loaded successfully.\n"
     ]
    },
    {
     "name": "stderr",
     "output_type": "stream",
     "text": [
      "D:\\dev\\conda\\envs\\ci-neo4j-moviedb\\Lib\\site-packages\\tqdm\\auto.py:21: TqdmWarning: IProgress not found. Please update jupyter and ipywidgets. See https://ipywidgets.readthedocs.io/en/stable/user_install.html\n",
      "  from .autonotebook import tqdm as notebook_tqdm\n",
      "D:\\dev\\conda\\envs\\ci-neo4j-moviedb\\Lib\\site-packages\\huggingface_hub\\file_download.py:144: UserWarning: `huggingface_hub` cache-system uses symlinks by default to efficiently store duplicated files but your machine does not support them in C:\\Users\\jensen\\.cache\\huggingface\\hub\\models--sentence-transformers--all-MiniLM-L6-v2. Caching files will still work but in a degraded version that might require more space on your disk. This warning can be disabled by setting the `HF_HUB_DISABLE_SYMLINKS_WARNING` environment variable. For more details, see https://huggingface.co/docs/huggingface_hub/how-to-cache#limitations.\n",
      "To support symlinks on Windows, you either need to activate Developer Mode or to run Python as an administrator. In order to activate developer mode, see this article: https://docs.microsoft.com/en-us/windows/apps/get-started/enable-your-device-for-development\n",
      "  warnings.warn(message)\n",
      "Xet Storage is enabled for this repo, but the 'hf_xet' package is not installed. Falling back to regular HTTP download. For better performance, install the package with: `pip install huggingface_hub[hf_xet]` or `pip install hf_xet`\n"
     ]
    }
   ],
   "execution_count": 10
  },
  {
   "metadata": {
    "ExecuteTime": {
     "end_time": "2025-04-23T17:59:22.402112Z",
     "start_time": "2025-04-23T17:59:07.733954Z"
    }
   },
   "cell_type": "code",
   "source": [
    "from Backend.recommendation.utils import genres_embeddings, genres_list\n",
    "from Backend.recommendation.filter_embedding import find_top_k_similar_from_cache, get_names_with_score_gt\n",
    "\n",
    "lst = find_top_k_similar_from_cache(\"romantic comedy\", genres_list, genres_embeddings)\n",
    "print(lst)\n",
    "print(get_names_with_score_gt(lst, 0.5))"
   ],
   "id": "6985bb25378c2560",
   "outputs": [
    {
     "name": "stdout",
     "output_type": "stream",
     "text": [
      "Model files already exist.\n"
     ]
    },
    {
     "name": "stderr",
     "output_type": "stream",
     "text": [
      "D:\\dev\\conda\\envs\\ci-neo4j-moviedb\\Lib\\site-packages\\tqdm\\auto.py:21: TqdmWarning: IProgress not found. Please update jupyter and ipywidgets. See https://ipywidgets.readthedocs.io/en/stable/user_install.html\n",
      "  from .autonotebook import tqdm as notebook_tqdm\n"
     ]
    },
    {
     "name": "stdout",
     "output_type": "stream",
     "text": [
      "Loading recommendation essentials...\n"
     ]
    },
    {
     "name": "stderr",
     "output_type": "stream",
     "text": [
      "C:\\Users\\jensen\\Documents\\Projects\\ci-neo4j-moviedb\\Backend\\recommendation\\utils.py:11: DtypeWarning: Columns (10) have mixed types. Specify dtype option on import or set low_memory=False.\n",
      "  movie_meta_df = pd.read_csv(Path(__file__).parent / \"TheMoviesDataset/movies_metadata.csv\", dtype={\"id\": str})\n"
     ]
    },
    {
     "name": "stdout",
     "output_type": "stream",
     "text": [
      "Recommendation essentials loaded successfully.\n",
      "[('Romance', 0.6630709171295166), ('Comedy', 0.6553831100463867), ('TV Movie', 0.49260228872299194), ('Thriller', 0.46217218041419983), ('Science Fiction', 0.4258729815483093)]\n",
      "['Romance', 'Comedy']\n"
     ]
    }
   ],
   "execution_count": 1
  },
  {
   "metadata": {
    "ExecuteTime": {
     "end_time": "2025-04-23T18:13:57.847259Z",
     "start_time": "2025-04-23T18:13:52.625272Z"
    }
   },
   "cell_type": "code",
   "source": [
    "from Backend.recommendation.utils import recommend_by_genres\n",
    "\n",
    "print(recommend_by_genres([\"action\"], [\"robots\", \"giant robots\", \"ocean\"]))"
   ],
   "id": "a1a26b7978ab9a9c",
   "outputs": [
    {
     "name": "stdout",
     "output_type": "stream",
     "text": [
      "🎯 Filtered down to 41 candidate movies from TMDB.\n",
      "\n",
      "👍 Simulated liked movies (matched to MovieLens):\n",
      "🎬 Captain Nemo → ML ID: 197483\n",
      "🎬 DeepStar Six → ML ID: 4213\n",
      "🎬 The Guardian → ML ID: 2982\n",
      "🎬 Pacific Liner → ML ID: 214210\n",
      "🎬 Greyhound → ML ID: 213914\n",
      "❌ The Devil Within not found in MovieLens\n",
      "❌ Raiders of Atlantis not found in MovieLens\n",
      "❌ Mission to Caracas not found in MovieLens\n",
      "❌ Hostile Environment not found in MovieLens\n",
      "🎬 Poseidon → ML ID: 45442\n",
      "❌ Devil's Triangle not found in MovieLens\n",
      "🎬 Deep Blue Sea 3 → ML ID: 221953\n",
      "🎬 The Bedford Incident → ML ID: 6854\n",
      "🎬 The Poseidon Adventure → ML ID: 2013\n",
      "🎬 The Creator → ML ID: 290573\n",
      "❌ One Piece Fan Letter not found in MovieLens\n",
      "🎬 Beyond the Poseidon Adventure → ML ID: 2537\n",
      "❌ Titans of the Deep not found in MovieLens\n",
      "🎬 About Time → ML ID: 104374\n",
      "🎬 The Meg → ML ID: 192307\n",
      "[{'id': '64', 'title': 'Talk to Her', 'release_date': '2002-03-14', 'predicted_rating': 1.0}, {'id': '167738', 'title': 'Guy', 'release_date': '1997-12-17', 'predicted_rating': 1.0}, {'id': '169864', 'title': 'The Short Game', 'release_date': '2013-09-20', 'predicted_rating': 1.0}, {'id': '62', 'title': '2001: A Space Odyssey', 'release_date': '1968-04-10', 'predicted_rating': 1.0}, {'id': '166643', 'title': 'Men Without Women', 'release_date': '1930-02-08', 'predicted_rating': 1.0}, {'id': '38', 'title': 'Eternal Sunshine of the Spotless Mind', 'release_date': '2004-03-19', 'predicted_rating': 1.0}, {'id': '35', 'title': 'The Simpsons Movie', 'release_date': '2007-07-25', 'predicted_rating': 1.0}, {'id': '63', 'title': 'Twelve Monkeys', 'release_date': '1995-12-29', 'predicted_rating': 1.0}]\n"
     ]
    }
   ],
   "execution_count": 3
  }
 ],
 "metadata": {
  "kernelspec": {
   "display_name": "Python 3",
   "language": "python",
   "name": "python3"
  },
  "language_info": {
   "codemirror_mode": {
    "name": "ipython",
    "version": 2
   },
   "file_extension": ".py",
   "mimetype": "text/x-python",
   "name": "python",
   "nbconvert_exporter": "python",
   "pygments_lexer": "ipython2",
   "version": "2.7.6"
  }
 },
 "nbformat": 4,
 "nbformat_minor": 5
}
